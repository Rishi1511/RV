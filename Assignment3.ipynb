{
 "cells": [
  {
   "cell_type": "markdown",
   "metadata": {},
   "source": [
    "1.1 Write a Python Program to implement your own myreduce() function which works exactly\n",
    "like Python's built-in function reduce()"
   ]
  },
  {
   "cell_type": "code",
   "execution_count": 1,
   "metadata": {},
   "outputs": [
    {
     "name": "stdout",
     "output_type": "stream",
     "text": [
      "Enter total number of Elements to be entered4\n",
      "Enter the number-: 14\n",
      "Enter the number-: 17\n",
      "Enter the number-: 21\n",
      "Enter the number-: 23\n",
      "75\n"
     ]
    }
   ],
   "source": [
    "n=int(input(\"Enter total number of Elements to be entered\"))\n",
    "lst=[]\n",
    "for i in range (n):\n",
    "    i=int(input(\"Enter the number-: \"))\n",
    "    lst.append(i)\n",
    "def myreduce():\n",
    "    i=0\n",
    "    a=0\n",
    "    while(i<len(lst)):\n",
    "        a=a+lst[i]\n",
    "        i=i+1\n",
    "    print(a)\n",
    "myreduce()"
   ]
  },
  {
   "cell_type": "markdown",
   "metadata": {},
   "source": [
    "1.2 Write a Python program to implement your own myfilter() function which works exactly\n",
    "like Python's built-in function filter()"
   ]
  },
  {
   "cell_type": "code",
   "execution_count": null,
   "metadata": {},
   "outputs": [],
   "source": [
    "n=int(input(\"Ente rtotal number of Elements to be entered\"))\n",
    "lst=[]\n",
    "for i in range (n):\n",
    "    i=int(input(\"Enter the number-: \"))\n",
    "    lst.append(i)\n",
    "eve=[]\n",
    "def myreduce():\n",
    "    i=0\n",
    "    while(i<len(lst)):\n",
    "        if(lst[i]%2==0):\n",
    "           eve.append(lst[i])\n",
    "        i=i+1\n",
    "    print(even)\n",
    "myreduce()"
   ]
  },
  {
   "cell_type": "markdown",
   "metadata": {},
   "source": [
    "2)Implement List comprehensions to produce the following lists.\n",
    "Write List comprehensions to produce the following Lists"
   ]
  },
  {
   "cell_type": "markdown",
   "metadata": {},
   "source": [
    "2.1-['x', 'xx', 'xxx', 'xxxx', 'xxxxx', 'y', 'yy', 'yyy', 'yyyy', 'yyyyy', 'z', 'zz', 'zzz', 'zzzz', 'zzzzz']"
   ]
  },
  {
   "cell_type": "code",
   "execution_count": null,
   "metadata": {},
   "outputs": [],
   "source": [
    "lst=[\"x\",\"y\",\"z\"]\n",
    "n=int(input(\"Enter the limit\"))\n",
    "a=[i*j for i in lst for j in range(1,n+1)]\n",
    "print(str(a))"
   ]
  },
  {
   "cell_type": "markdown",
   "metadata": {},
   "source": [
    "2.2-['x', 'y', 'z', 'xx', 'yy', 'zz', 'xxx', 'yyy', 'zzz', 'xxxx', 'yyyy', 'zzzz']"
   ]
  },
  {
   "cell_type": "code",
   "execution_count": 2,
   "metadata": {},
   "outputs": [
    {
     "name": "stdout",
     "output_type": "stream",
     "text": [
      "enter the limit4\n",
      "['x', 'y', 'z', 'xx', 'yy', 'zz', 'xxx', 'yyy', 'zzz', 'xxxx', 'yyyy', 'zzzz']\n"
     ]
    }
   ],
   "source": [
    "lst=[\"x\",\"y\",\"z\"]\n",
    "n=int(input(\"enter the limit\"))\n",
    "a=[i*j for i in range(1,n+1) for j in lst]\n",
    "print(str(a))"
   ]
  },
  {
   "cell_type": "markdown",
   "metadata": {},
   "source": [
    "2.3-[[2], [3], [4], [3], [4], [5], [4], [5], [6], [5], [6], [7]]"
   ]
  },
  {
   "cell_type": "code",
   "execution_count": 10,
   "metadata": {},
   "outputs": [
    {
     "data": {
      "text/plain": [
       "[[2], [3], [4], [3], [4], [5], [4], [5], [6], [5], [6], [7]]"
      ]
     },
     "execution_count": 10,
     "metadata": {},
     "output_type": "execute_result"
    }
   ],
   "source": [
    "lst=[2,3,4,5]\n",
    "a=[[i+j] for i in lst for j in range(0,3)]\n",
    "a"
   ]
  },
  {
   "cell_type": "markdown",
   "metadata": {},
   "source": [
    "2.4-[[2, 3, 4], [3, 4, 5], [4, 5, 6], [5, 6, 7]]"
   ]
  },
  {
   "cell_type": "code",
   "execution_count": 7,
   "metadata": {},
   "outputs": [
    {
     "data": {
      "text/plain": [
       "[[2, 3, 4], [3, 4, 5], [4, 5, 6], [5, 6, 7]]"
      ]
     },
     "execution_count": 7,
     "metadata": {},
     "output_type": "execute_result"
    }
   ],
   "source": [
    "lst=[2,3,4]\n",
    "b=[[i+j for i in lst] for j in range(4)]\n",
    "b"
   ]
  },
  {
   "cell_type": "markdown",
   "metadata": {},
   "source": [
    "2.5-[(1, 1), (1, 2), (1, 3), (2, 1), (2, 2), (2, 3), (3, 1), (3, 2), (3, 3)]"
   ]
  },
  {
   "cell_type": "code",
   "execution_count": 8,
   "metadata": {},
   "outputs": [
    {
     "data": {
      "text/plain": [
       "[(1, 1), (1, 2), (1, 3), (2, 1), (2, 2), (2, 3), (3, 1), (3, 2), (3, 3)]"
      ]
     },
     "execution_count": 8,
     "metadata": {},
     "output_type": "execute_result"
    }
   ],
   "source": [
    "lst=[1,2,3]\n",
    "b=[(i,j)for i in lst for j in lst]\n",
    "b"
   ]
  }
 ],
 "metadata": {
  "kernelspec": {
   "display_name": "Python 3",
   "language": "python",
   "name": "python3"
  },
  "language_info": {
   "codemirror_mode": {
    "name": "ipython",
    "version": 3
   },
   "file_extension": ".py",
   "mimetype": "text/x-python",
   "name": "python",
   "nbconvert_exporter": "python",
   "pygments_lexer": "ipython3",
   "version": "3.7.4"
  }
 },
 "nbformat": 4,
 "nbformat_minor": 2
}
