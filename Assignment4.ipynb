{
 "cells": [
  {
   "cell_type": "markdown",
   "metadata": {},
   "source": [
    "1.1)Write a Python Program(with class concepts) to find the area of the triangle using the below\n",
    "formula.\n",
    "area = (s*(s-a)*(s-b)*(s-c)) ** 0.5\n",
    "Function to take the length of the sides of triangle from user should be defined in the parent\n",
    "class and function to calculate the area should be defined in subclass."
   ]
  },
  {
   "cell_type": "code",
   "execution_count": null,
   "metadata": {},
   "outputs": [],
   "source": [
    "class Triangle:\n",
    "    def __init__(self,a,b,c):\n",
    "        self.a=a\n",
    "        self.b=b\n",
    "        self.c=c\n",
    "    \n",
    "class Area(Triangle):\n",
    "    def __init__(self,*args):\n",
    "        super(Area,self).__init__(*args)\n",
    "        \n",
    "    def area(self):\n",
    "        s=(self.a+self.b+self.c)/2\n",
    "        print(\"perimeter of triangle is %f\" %(s))\n",
    "        area = (s*(s-a)*(s-b)*(s-c))**0.5\n",
    "        print(\"Area of tringle is {}\".format(area))\n",
    "side1=float(input(\"enter the first side of triangle\"))\n",
    "side2=float(input(\"enter the second side of triangle\"))\n",
    "side3=float(input(\"enter the third side of triangle\"))\n",
    "obj=Area(a,b,c)\n",
    "obj.area()"
   ]
  },
  {
   "cell_type": "markdown",
   "metadata": {},
   "source": [
    "1.2)Write a function filter_long_words() that takes a list of words and an integer n and returns\n",
    "the list of words that are longer than n."
   ]
  },
  {
   "cell_type": "code",
   "execution_count": null,
   "metadata": {},
   "outputs": [],
   "source": [
    "def filter_long_words(lst1,n):\n",
    "    total_words=int(input(\"Enter the number\"))\n",
    "    lst1=[]\n",
    "    longer_words=[]\n",
    "    for i in range(total_words):\n",
    "        word=input(\"enter the word\")\n",
    "        lst1.append(word)\n",
    "    \n",
    "    for i in lst1:\n",
    "        if(len(i)>length_of_word):\n",
    "            longer_words.append(i)\n",
    "    print(longer_words)\n",
    "length_of_word=int(input(\"Enter the length\"))\n",
    "filter_long_words(lst1,length_of_word)"
   ]
  },
  {
   "cell_type": "markdown",
   "metadata": {},
   "source": [
    "2.1)Write a Python program using function concept that maps list of words into a list of integers\n",
    "representing the lengths of the corresponding words.\n",
    "Hint: If a list [ ab,cde,erty] is passed on to the python function output should come as [2,3,4]\n",
    "Here 2,3 and 4 are the lengths of the words in the list."
   ]
  },
  {
   "cell_type": "code",
   "execution_count": 6,
   "metadata": {},
   "outputs": [
    {
     "name": "stdout",
     "output_type": "stream",
     "text": [
      "enter the number5\n",
      "Enter the wordrishi vashishtha\n",
      "Enter the wordsachin nishad\n",
      "Enter the wordrohit bidhuri\n",
      "Enter the wordritesh khurana\n",
      "Enter the wordrishabh\n",
      "['rishi vashishtha', 'sachin nishad', 'rohit bidhuri', 'ritesh khurana', 'rishabh']\n",
      "[16, 13, 13, 14, 7]\n"
     ]
    }
   ],
   "source": [
    "lst1=[]\n",
    "limit=int(input(\"enter the number\"))\n",
    "for i in range(limit):\n",
    "    word=input(\"Enter the word\")\n",
    "    lst1.append(word)\n",
    "print(lst1)\n",
    "def test(a):\n",
    "    length=[]\n",
    "    for i in a:\n",
    "        length.append(len(i))\n",
    "    print(length)\n",
    "test(lst1)"
   ]
  },
  {
   "cell_type": "markdown",
   "metadata": {},
   "source": [
    "Write a Python function which takes a character (i.e. a string of length 1) and returns True if\n",
    "it is a vowel, False otherwise."
   ]
  },
  {
   "cell_type": "code",
   "execution_count": 23,
   "metadata": {},
   "outputs": [
    {
     "name": "stdout",
     "output_type": "stream",
     "text": [
      "enter the word or characterx\n",
      "x\n"
     ]
    },
    {
     "data": {
      "text/plain": [
       "False"
      ]
     },
     "execution_count": 23,
     "metadata": {},
     "output_type": "execute_result"
    }
   ],
   "source": [
    "2.2)def test():\n",
    "    a=input(\"enter the word or character\")\n",
    "    lst=[\"a\",\"e\",\"i\",\"o\",\"u\"]\n",
    "    print(a)\n",
    "    if len(a)==1:\n",
    "        for i in lst:\n",
    "            if(a==i):\n",
    "                return True\n",
    "        else:\n",
    "            return False\n",
    "    else:\n",
    "        print(\"Length of character is greater than 1\")\n",
    "test()"
   ]
  }
 ],
 "metadata": {
  "kernelspec": {
   "display_name": "Python 3",
   "language": "python",
   "name": "python3"
  },
  "language_info": {
   "codemirror_mode": {
    "name": "ipython",
    "version": 3
   },
   "file_extension": ".py",
   "mimetype": "text/x-python",
   "name": "python",
   "nbconvert_exporter": "python",
   "pygments_lexer": "ipython3",
   "version": "3.7.4"
  }
 },
 "nbformat": 4,
 "nbformat_minor": 2
}
